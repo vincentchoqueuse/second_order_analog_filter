{
 "cells": [
  {
   "cell_type": "markdown",
   "metadata": {},
   "source": [
    "<div style=\"float:right;padding-top:20px\">\n",
    "   <img src=\"https://www.enib.fr/images/logo-enib-accueil.jpg\" style=\"width:120px\"/>\n",
    "</div>\n",
    "\n",
    "# Rauch High Pass Filter\n",
    "\n",
    "<div style=\"padding-top: 40px\">\n",
    "<div class=\"alert alert-info\" role=\"alert\" >\n",
    "    <ul>\n",
    "        <li><b>Contributors:</b> Student 1, Student 2</li>\n",
    "        <li><b>LT spice file: </b><a href=\"./asc/Rauch_HP.asc\">Download</a></li>\n",
    "     </ul>\n",
    "</div>\n",
    "</div>"
   ]
  },
  {
   "cell_type": "code",
   "execution_count": 57,
   "metadata": {},
   "outputs": [],
   "source": [
    "import numpy as np\n",
    "from custom_lib import show"
   ]
  },
  {
   "cell_type": "markdown",
   "metadata": {},
   "source": [
    "## Electronic Circuit\n",
    "\n",
    "<img src=\"./img/Rauch_HP.svg\" width=\"300px\">"
   ]
  },
  {
   "cell_type": "markdown",
   "metadata": {},
   "source": [
    "The circuit transfer function is given by (see [proof](#proof)) :\n",
    "$$T(p)=\\frac{? p^2+ ? p+ ?}{? p^2+ ? p+ ?}$$"
   ]
  },
  {
   "cell_type": "markdown",
   "metadata": {},
   "source": [
    "## Parameter Identification\n",
    "\n",
    "The function `compute_parameters` evaluates the filter parameters from the filter components."
   ]
  },
  {
   "cell_type": "code",
   "execution_count": 58,
   "metadata": {},
   "outputs": [],
   "source": [
    "def compute_parameters(R1,R2,C1,C2,C3):\n",
    "    # compute your parameter here\n",
    "    w0 = 0\n",
    "    f0 = 0\n",
    "    m = 0\n",
    "    Too = 0\n",
    "    Tw0 = 0\n",
    "    return {\"w0\":w0,\"f0\":f0,\"m\":m,\"Too\":Too,\"Tw0\":Tw0}"
   ]
  },
  {
   "cell_type": "code",
   "execution_count": 59,
   "metadata": {},
   "outputs": [
    {
     "data": {
      "application/vnd.jupyter.widget-view+json": {
       "model_id": "f6c242ee4a2d40b1af4fb1e730690840",
       "version_major": 2,
       "version_minor": 0
      },
      "text/plain": [
       "HTML(value=\"<table class='table' style='margin-top: 20px'><tr><th scope='col' style='width: 20%'>parameter</th…"
      ]
     },
     "metadata": {},
     "output_type": "display_data"
    }
   ],
   "source": [
    "R1, R2, C1, C2, C3 = 1000, 5000, 10**-9, 2.2*(10**-8), 3.3*(10**-9)\n",
    "\n",
    "parameters = compute_parameters(R1,R2,C1,C2,C3)\n",
    "show(parameters,name = \"parameter\")"
   ]
  },
  {
   "cell_type": "markdown",
   "metadata": {},
   "source": [
    "## Component Selection\n",
    "\n",
    "The function `compute_component` compute the filter components from some filter specification."
   ]
  },
  {
   "cell_type": "code",
   "execution_count": 60,
   "metadata": {},
   "outputs": [],
   "source": [
    "def compute_component(f0,m,Too):\n",
    "    # compute your component here\n",
    "    R1 = 0\n",
    "    R2 = 0\n",
    "    C1 = 0\n",
    "    C2 = 0\n",
    "    C3 = 0\n",
    "    return {\"R1\":R1,\"R2\":R2,\"C1\":C1,\"C2\":C2,\"C3\":C3}"
   ]
  },
  {
   "cell_type": "code",
   "execution_count": 61,
   "metadata": {},
   "outputs": [
    {
     "data": {
      "application/vnd.jupyter.widget-view+json": {
       "model_id": "80b6a68b7f1d41668309a870fcb63970",
       "version_major": 2,
       "version_minor": 0
      },
      "text/plain": [
       "HTML(value=\"<table class='table' style='margin-top: 20px'><tr><th scope='col' style='width: 20%'>component</th…"
      ]
     },
     "metadata": {},
     "output_type": "display_data"
    }
   ],
   "source": [
    "f0, m, Too = 0, 0, 0\n",
    "\n",
    "components = compute_component(f0,m,Too)\n",
    "show(components,name = \"component\")"
   ]
  },
  {
   "cell_type": "markdown",
   "metadata": {},
   "source": [
    "## Demonstration\n",
    "<a id='proof'></a>\n",
    "\n",
    "*write your proof here*"
   ]
  }
 ],
 "metadata": {
  "kernelspec": {
   "display_name": "Python 3",
   "language": "python",
   "name": "python3"
  },
  "language_info": {
   "codemirror_mode": {
    "name": "ipython",
    "version": 3
   },
   "file_extension": ".py",
   "mimetype": "text/x-python",
   "name": "python",
   "nbconvert_exporter": "python",
   "pygments_lexer": "ipython3",
   "version": "3.7.3"
  }
 },
 "nbformat": 4,
 "nbformat_minor": 2
}
