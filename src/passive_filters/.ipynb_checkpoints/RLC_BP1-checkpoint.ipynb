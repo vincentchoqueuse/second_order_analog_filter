{
 "cells": [
  {
   "cell_type": "markdown",
   "metadata": {},
   "source": [
    "<div style=\"float:right;padding-top:20px\">\n",
    "   <img src=\"https://www.enib.fr/images/logo-enib-accueil.jpg\" style=\"width:120px\"/>\n",
    "</div>\n",
    "\n",
    "# RLC BandPass 1 Filter\n",
    "\n",
    "<div style=\"padding-top: 40px\">\n",
    "<div class=\"alert alert-info\" role=\"alert\" >\n",
    "    <ul>\n",
    "        <li><b>Contributors:</b> Student 1, Student 2</li>\n",
    "        <li><b>LT spice file: </b><a href=\"./asc/RLC_BP1.asc\">Download</a></li>\n",
    "     </ul>\n",
    "</div>\n",
    "</div>"
   ]
  },
  {
   "cell_type": "code",
   "execution_count": 1,
   "metadata": {},
   "outputs": [],
   "source": [
    "import numpy as np\n",
    "from custom_lib import show"
   ]
  },
  {
   "cell_type": "markdown",
   "metadata": {},
   "source": [
    "## Electronic Circuit\n",
    "\n",
    "<img src=\"./img/RLC_BP1.svg\" width=\"300px\">"
   ]
  },
  {
   "cell_type": "markdown",
   "metadata": {},
   "source": [
    "The circuit transfer function is given by (see [proof](#proof)) :\n",
    "$$T(p)=\\frac{? p^2+ ? p+ ?}{? p^2+ ? p+ ?}$$"
   ]
  },
  {
   "cell_type": "markdown",
   "metadata": {},
   "source": [
    "## Parameter Identification\n",
    "\n",
    "The function `compute_parameters` evaluates the filter parameters from the filter components."
   ]
  },
  {
   "cell_type": "code",
   "execution_count": 2,
   "metadata": {},
   "outputs": [],
   "source": [
    "def compute_parameters(R,L,C):\n",
    "    # compute your parameter here\n",
    "    w0 = 0\n",
    "    f0 = 0\n",
    "    m = 0\n",
    "    Ti = 0\n",
    "    Tmax = 0\n",
    "    BP = 0\n",
    "    return {\"w0\":w0,\"f0\":f0,\"m\":m,\"Ti\":Ti,\"Tmax\":Tmax,\"BP\":BP}"
   ]
  },
  {
   "cell_type": "code",
   "execution_count": 3,
   "metadata": {},
   "outputs": [
    {
     "data": {
      "application/vnd.jupyter.widget-view+json": {
       "model_id": "9c2f7c7d60bd4271a2dba71894dcff79",
       "version_major": 2,
       "version_minor": 0
      },
      "text/plain": [
       "HTML(value=\"<table class='table' style='margin-top: 10px'><tr><th scope='col' style='width: 20%'>parameter</th…"
      ]
     },
     "metadata": {},
     "output_type": "display_data"
    }
   ],
   "source": [
    "R, L, C = 3300, 0.05, 10**-8\n",
    "\n",
    "parameters = compute_parameters(R,L,C)\n",
    "show(parameters,name = \"parameter\")"
   ]
  },
  {
   "cell_type": "markdown",
   "metadata": {},
   "source": [
    "## Component Selection\n",
    "\n",
    "The function `compute_component` compute the filter components from some filter specification."
   ]
  },
  {
   "cell_type": "code",
   "execution_count": 4,
   "metadata": {},
   "outputs": [],
   "source": [
    "def compute_component(f0,m,Tmax):\n",
    "    # compute your component here\n",
    "    R = 0\n",
    "    L = 0\n",
    "    C = 0\n",
    "    return {\"R\":R,\"L\":L,\"C\":C}"
   ]
  },
  {
   "cell_type": "code",
   "execution_count": 5,
   "metadata": {},
   "outputs": [
    {
     "data": {
      "application/vnd.jupyter.widget-view+json": {
       "model_id": "2dbcd01cdcfa41d996ac51b3837c6d6a",
       "version_major": 2,
       "version_minor": 0
      },
      "text/plain": [
       "HTML(value=\"<table class='table' style='margin-top: 10px'><tr><th scope='col' style='width: 20%'>component</th…"
      ]
     },
     "metadata": {},
     "output_type": "display_data"
    }
   ],
   "source": [
    "f0, m, Tmax = 0, 0, 0\n",
    "\n",
    "components = compute_component(f0,m,Tmax)\n",
    "show(components,name = \"component\")"
   ]
  },
  {
   "cell_type": "markdown",
   "metadata": {},
   "source": [
    "## Demonstration\n",
    "<a id='proof'></a>\n",
    "\n",
    "*write your proof here*"
   ]
  }
 ],
 "metadata": {
  "kernelspec": {
   "display_name": "Python 3",
   "language": "python",
   "name": "python3"
  },
  "language_info": {
   "codemirror_mode": {
    "name": "ipython",
    "version": 3
   },
   "file_extension": ".py",
   "mimetype": "text/x-python",
   "name": "python",
   "nbconvert_exporter": "python",
   "pygments_lexer": "ipython3",
   "version": "3.7.3"
  }
 },
 "nbformat": 4,
 "nbformat_minor": 2
}
